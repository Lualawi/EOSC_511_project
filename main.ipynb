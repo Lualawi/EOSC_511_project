{
 "cells": [
  {
   "cell_type": "code",
   "execution_count": 2,
   "id": "d31f3a64",
   "metadata": {},
   "outputs": [],
   "source": [
    "\n",
    "from IPython.display import Image\n",
    "import IPython.display as display\n",
    "# import plotting package and numerical python package for use in examples later\n",
    "import matplotlib.pyplot as plt\n",
    "# make the plots happen inline\n",
    "%matplotlib inline  \n",
    "# import the numpy array handling library\n",
    "import numpy as np"
   ]
  },
  {
   "cell_type": "code",
   "execution_count": null,
   "id": "cc862f1d",
   "metadata": {},
   "outputs": [],
   "source": []
  }
 ],
 "metadata": {
  "kernelspec": {
   "display_name": "Python 3",
   "language": "python",
   "name": "python3"
  },
  "language_info": {
   "codemirror_mode": {
    "name": "ipython",
    "version": 3
   },
   "file_extension": ".py",
   "mimetype": "text/x-python",
   "name": "python",
   "nbconvert_exporter": "python",
   "pygments_lexer": "ipython3",
   "version": "3.7.4"
  }
 },
 "nbformat": 4,
 "nbformat_minor": 5
}
